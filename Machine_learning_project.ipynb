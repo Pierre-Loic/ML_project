{
 "cells": [
  {
   "cell_type": "markdown",
   "id": "5d24b61d",
   "metadata": {},
   "source": [
    "# Projet de machine learning\n",
    "\n",
    "1 - Définir le projet\n",
    "\n",
    "L'objectif est de créer une API qui permet de savoir si une personne aurait survécu au naufrage du Titanic à partir de certaines données la concernant."
   ]
  },
  {
   "cell_type": "markdown",
   "id": "2ceb0285",
   "metadata": {},
   "source": [
    "2 - Récupérer les données\n",
    "\n",
    "Le fichier de données est à récupérer à l'adresse suivante : https://raw.githubusercontent.com/Pierre-Loic/ML_project/main/data/data.csv\n",
    "\n",
    ">__Partie Azure Machine Learning__\n",
    "\n",
    ">Mettre ce fichier dans un Blob Storage"
   ]
  },
  {
   "cell_type": "markdown",
   "id": "520eeaab",
   "metadata": {},
   "source": [
    "3 - Explorer les données\n",
    "\n",
    "Effectuer une analyse globale, univariée et bivariée des données\n",
    "\n",
    ">__Partie Azure Machine Learning__\n",
    "\n",
    ">Effectuer l'analyse univariée des données"
   ]
  },
  {
   "cell_type": "markdown",
   "id": "d0e6c86c",
   "metadata": {},
   "source": [
    "3 - Entrainer des modèles et sélectionner le meilleur\n",
    "\n",
    ">__Partie Azure Machine Learning__\n",
    "\n",
    ">Effectuer une sélection de modèle à l'aide Azure machine learning AutoML"
   ]
  },
  {
   "cell_type": "markdown",
   "id": "62320eb5",
   "metadata": {},
   "source": [
    "4 - Déployer et tester le modèle\n",
    "\n",
    ">__Partie Azure Machine Learning__\n",
    "\n",
    ">Déployer le modèle sous forme d'API dans un conteneur Docker dans Azure"
   ]
  }
 ],
 "metadata": {
  "kernelspec": {
   "display_name": "Python 3 (ipykernel)",
   "language": "python",
   "name": "python3"
  },
  "language_info": {
   "codemirror_mode": {
    "name": "ipython",
    "version": 3
   },
   "file_extension": ".py",
   "mimetype": "text/x-python",
   "name": "python",
   "nbconvert_exporter": "python",
   "pygments_lexer": "ipython3",
   "version": "3.9.6"
  }
 },
 "nbformat": 4,
 "nbformat_minor": 5
}
